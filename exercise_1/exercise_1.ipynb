{
 "cells": [
  {
   "cell_type": "markdown",
   "metadata": {},
   "source": [
    "# Lista 1 - Banco de Dados Avançados\n",
    "\n",
    "**Davi Braga Gomes - 0396905**\n",
    "  \n",
    "    \n",
    "### 1) Para todas as consultas SQL discutidas na Unidade V (a partir do slide 31) faça:\n",
    "\n",
    "  a. Escreva uma consulta semelhante usando as tabelas do TPC-H (fator 5);\n",
    " \n",
    "  b. Para cada um dos índices candidatos (ou combinações possíveis de índicescandidatos) faça:\n",
    "\n",
    "    a. Execute a consulta;\n",
    "  \n",
    "    b. Anote o tempo de execução;\n",
    "  \n",
    " c. Guarde o plano de execução gerado pelo SGBD; \n",
    " \n",
    " d. Anote os índices utilizados e não utilizados;\n",
    " \n",
    " e. Descreva se as diretrizes estudadas em sala de aula foram ou não efetivas;\n",
    " \n",
    " f. Remova os índices criados;\n",
    "\n"
   ]
  },
  {
   "cell_type": "code",
   "execution_count": null,
   "metadata": {
    "collapsed": true
   },
   "outputs": [],
   "source": []
  }
 ],
 "metadata": {
  "kernelspec": {
   "display_name": "Python 2",
   "language": "python",
   "name": "python2"
  },
  "language_info": {
   "codemirror_mode": {
    "name": "ipython",
    "version": 2
   },
   "file_extension": ".py",
   "mimetype": "text/x-python",
   "name": "python",
   "nbconvert_exporter": "python",
   "pygments_lexer": "ipython2",
   "version": "2.7.13"
  }
 },
 "nbformat": 4,
 "nbformat_minor": 2
}
